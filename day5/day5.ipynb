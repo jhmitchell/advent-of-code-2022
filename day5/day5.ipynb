{
 "cells": [
  {
   "cell_type": "code",
   "execution_count": 21,
   "metadata": {},
   "outputs": [
    {
     "name": "stdout",
     "output_type": "stream",
     "text": [
      "CFFHVVHNC\n"
     ]
    }
   ],
   "source": [
    "from collections import deque\n",
    "import re\n",
    "\n",
    "fin = 'day5.in'\n",
    "stacks = {}\n",
    "pattern = re.compile(r'move (\\d+) from (\\d+) to (\\d+)')\n",
    "\n",
    "with open(fin, 'r') as f:\n",
    "    lines = f.readlines()\n",
    "    linenum = 0\n",
    "    while '1' not in lines[linenum]:\n",
    "        for i, char in enumerate(lines[linenum]):\n",
    "            if char.isalpha():\n",
    "                stackid = (i // 4) + 1\n",
    "                if stackid not in stacks:\n",
    "                    stacks[stackid] = deque([char])\n",
    "                else:\n",
    "                    stacks[stackid].append(char)\n",
    "        linenum += 1\n",
    "\n",
    "    for line in lines[linenum:len(lines)]:\n",
    "        match = pattern.match(line)\n",
    "        if match:\n",
    "            amount = int(match.group(1))\n",
    "            fromval = int(match.group(2))\n",
    "            toval = int(match.group(3))\n",
    "            for i in range(amount):\n",
    "                stacks[toval].appendleft(stacks[fromval].popleft())\n",
    "\n",
    "sol = ''\n",
    "for key in sorted(stacks):\n",
    "    sol += stacks[key].popleft()\n",
    "\n",
    "print(sol)"
   ]
  },
  {
   "cell_type": "code",
   "execution_count": 23,
   "metadata": {},
   "outputs": [
    {
     "name": "stdout",
     "output_type": "stream",
     "text": [
      "FSZWBPTBG\n"
     ]
    }
   ],
   "source": [
    "from collections import deque\n",
    "import re\n",
    "\n",
    "fin = 'day5.in'\n",
    "stacks = {}\n",
    "pattern = re.compile(r'move (\\d+) from (\\d+) to (\\d+)')\n",
    "\n",
    "with open(fin, 'r') as f:\n",
    "    lines = f.readlines()\n",
    "    linenum = 0\n",
    "    while '1' not in lines[linenum]:\n",
    "        for i, char in enumerate(lines[linenum]):\n",
    "            if char.isalpha():\n",
    "                stackid = (i // 4) + 1\n",
    "                if stackid not in stacks:\n",
    "                    stacks[stackid] = deque([char])\n",
    "                else:\n",
    "                    stacks[stackid].append(char)\n",
    "        linenum += 1\n",
    "\n",
    "    for line in lines[linenum:len(lines)]:\n",
    "        match = pattern.match(line)\n",
    "        if match:\n",
    "            amount = int(match.group(1))\n",
    "            fromval = int(match.group(2))\n",
    "            toval = int(match.group(3))\n",
    "            crates = deque()\n",
    "            for i in range(amount):\n",
    "                crates.appendleft(stacks[fromval].popleft())\n",
    "            for i in range(amount):\n",
    "                stacks[toval].appendleft(crates.popleft())\n",
    "\n",
    "sol = ''\n",
    "for key in sorted(stacks):\n",
    "    sol += stacks[key].popleft()\n",
    "\n",
    "print(sol)"
   ]
  }
 ],
 "metadata": {
  "kernelspec": {
   "display_name": "Python 3",
   "language": "python",
   "name": "python3"
  },
  "language_info": {
   "codemirror_mode": {
    "name": "ipython",
    "version": 3
   },
   "file_extension": ".py",
   "mimetype": "text/x-python",
   "name": "python",
   "nbconvert_exporter": "python",
   "pygments_lexer": "ipython3",
   "version": "3.8.9 (default, May 17 2022, 12:55:41) \n[Clang 13.1.6 (clang-1316.0.21.2.5)]"
  },
  "orig_nbformat": 4,
  "vscode": {
   "interpreter": {
    "hash": "31f2aee4e71d21fbe5cf8b01ff0e069b9275f58929596ceb00d14d90e3e16cd6"
   }
  }
 },
 "nbformat": 4,
 "nbformat_minor": 2
}
