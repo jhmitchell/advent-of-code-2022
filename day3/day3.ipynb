{
 "cells": [
  {
   "cell_type": "code",
   "execution_count": 14,
   "metadata": {},
   "outputs": [
    {
     "name": "stdout",
     "output_type": "stream",
     "text": [
      "2639\n"
     ]
    }
   ],
   "source": [
    "fin = 'day3.in'\n",
    "\n",
    "size = 3\n",
    "priority = 0\n",
    "with open(fin, 'r') as f:\n",
    "    lines = f.readlines()\n",
    "    for i in range(0, len(lines), size):\n",
    "        grouphash = {}\n",
    "        linenum = 0\n",
    "\n",
    "        for line in lines[i:i+size]:    \n",
    "            for charidx in range(len(line)):\n",
    "                if line[charidx] not in grouphash and not linenum:\n",
    "                    grouphash[line[charidx]] = 0\n",
    "                elif line[charidx] not in grouphash:\n",
    "                    continue\n",
    "                elif grouphash[line[charidx]] == linenum - 1:\n",
    "                    grouphash[line[charidx]] = linenum\n",
    "            linenum += 1\n",
    "\n",
    "        for char, num in grouphash.items():\n",
    "            if num == size - 1:\n",
    "                sol = char\n",
    "                break\n",
    "        \n",
    "        if sol.isupper():\n",
    "            priority += ord(sol) - ord('A') + 27\n",
    "        else:\n",
    "            priority += ord(sol) - ord('a') + 1\n",
    "\n",
    "print(priority)"
   ]
  }
 ],
 "metadata": {
  "kernelspec": {
   "display_name": "Python 3",
   "language": "python",
   "name": "python3"
  },
  "language_info": {
   "codemirror_mode": {
    "name": "ipython",
    "version": 3
   },
   "file_extension": ".py",
   "mimetype": "text/x-python",
   "name": "python",
   "nbconvert_exporter": "python",
   "pygments_lexer": "ipython3",
   "version": "3.8.9"
  },
  "orig_nbformat": 4,
  "vscode": {
   "interpreter": {
    "hash": "31f2aee4e71d21fbe5cf8b01ff0e069b9275f58929596ceb00d14d90e3e16cd6"
   }
  }
 },
 "nbformat": 4,
 "nbformat_minor": 2
}
