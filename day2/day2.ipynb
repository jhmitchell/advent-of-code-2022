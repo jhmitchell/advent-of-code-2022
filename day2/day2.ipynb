{
 "cells": [
  {
   "cell_type": "code",
   "execution_count": 9,
   "metadata": {},
   "outputs": [
    {
     "name": "stdout",
     "output_type": "stream",
     "text": [
      "13052\n"
     ]
    }
   ],
   "source": [
    "fin = 'day2.in'\n",
    "op = ['A', 'B', 'C']\n",
    "me = ['X', 'Y', 'Z']\n",
    "\n",
    "score = 0\n",
    "with open(fin, 'r') as f:\n",
    "    for line in f.readlines():\n",
    "        left = line.split(' ')[0]\n",
    "        right = line.split(' ')[1].strip()\n",
    "        score += me.index(right) + 1\n",
    "        result = (me.index(right) - op.index(left)) % 3\n",
    "        if result == 1:\n",
    "            # You win\n",
    "            score += 6\n",
    "        elif result == 0:\n",
    "            # Draw\n",
    "            score += 3\n",
    "\n",
    "print(score)"
   ]
  },
  {
   "cell_type": "code",
   "execution_count": 10,
   "metadata": {},
   "outputs": [
    {
     "name": "stdout",
     "output_type": "stream",
     "text": [
      "13693\n"
     ]
    }
   ],
   "source": [
    "fin = 'day2.in'\n",
    "\n",
    "# Rock / Paper / Scissors\n",
    "rps = ['A', 'B', 'C']\n",
    "\n",
    "# Draw / Win / Loss\n",
    "outcomes = ['Y', 'Z', 'X']\n",
    "\n",
    "score = 0\n",
    "with open(fin, 'r') as f:\n",
    "    for line in f.readlines():\n",
    "        left = line.split(' ')[0]\n",
    "        right = line.split(' ')[1].strip()\n",
    "        result = outcomes.index(right)\n",
    "        choiceidx = (rps.index(left) + result) % 3\n",
    "        score += choiceidx + 1 + ((result + 1) % 3)*3\n",
    "\n",
    "print(score)\n"
   ]
  }
 ],
 "metadata": {
  "kernelspec": {
   "display_name": "Python 3",
   "language": "python",
   "name": "python3"
  },
  "language_info": {
   "codemirror_mode": {
    "name": "ipython",
    "version": 3
   },
   "file_extension": ".py",
   "mimetype": "text/x-python",
   "name": "python",
   "nbconvert_exporter": "python",
   "pygments_lexer": "ipython3",
   "version": "3.8.9"
  },
  "orig_nbformat": 4,
  "vscode": {
   "interpreter": {
    "hash": "31f2aee4e71d21fbe5cf8b01ff0e069b9275f58929596ceb00d14d90e3e16cd6"
   }
  }
 },
 "nbformat": 4,
 "nbformat_minor": 2
}
