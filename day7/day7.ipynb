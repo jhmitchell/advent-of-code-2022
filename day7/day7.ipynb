{
 "cells": [
  {
   "cell_type": "code",
   "execution_count": 11,
   "metadata": {},
   "outputs": [],
   "source": [
    "class File:\n",
    "    def __init__(self, parent, name, size):\n",
    "        self.parent = parent\n",
    "        self.name = name\n",
    "        self.size = size\n",
    "        parent.add_child(self)\n",
    "        parent.update_size(size)\n",
    "\n",
    "    def get_size(self):\n",
    "        return self.size\n",
    "    \n",
    "    def get_parent(self):\n",
    "        return self.parent\n",
    "\n",
    "    def get_name(self):\n",
    "        return self.name\n",
    "\n",
    "class Dir:\n",
    "    def __init__(self, parent, name):\n",
    "        self.parent = parent\n",
    "        self.children = []\n",
    "        self.size = 0\n",
    "        self.name = name\n",
    "\n",
    "    def update_size(self, size):\n",
    "        self.size += size\n",
    "\n",
    "    def add_child(self, child):\n",
    "        self.children.append(child)\n",
    "\n",
    "    def get_size(self):\n",
    "        return self.size\n",
    "    \n",
    "    def get_parent(self):\n",
    "        return self.parent\n",
    "\n",
    "    def get_children(self):\n",
    "        return self.children\n",
    "\n",
    "    def get_name(self):\n",
    "        return self.name"
   ]
  },
  {
   "cell_type": "code",
   "execution_count": 17,
   "metadata": {},
   "outputs": [],
   "source": [
    "def parse_cd(line, cur, root):\n",
    "    cmd = line.split('cd ')[1]\n",
    "    print(f'cmd {cmd}')\n",
    "    if cmd == '..':\n",
    "        cur = cur.get_parent()\n",
    "    elif cmd == '/':\n",
    "        cur = root\n",
    "    else:\n",
    "        for child in cur.get_children():\n",
    "            if child.get_name() == cmd:\n",
    "                cur = child\n",
    "                break\n",
    "    return\n",
    "\n",
    "def parse_ls(line, cur, root):\n",
    "    if 'dir' in line:\n",
    "        name = line.split('dir ')[1]\n",
    "        newdir = Dir(cur, name)\n",
    "        cur.add_child(newdir)\n",
    "    else:\n",
    "        size = line.split(' ')[0]\n",
    "        name = line.split(' ')[1]\n",
    "        newfile = File(cur, name, size)\n",
    "        # TODO: finish this\n"
   ]
  },
  {
   "cell_type": "code",
   "execution_count": 18,
   "metadata": {},
   "outputs": [
    {
     "name": "stdout",
     "output_type": "stream",
     "text": [
      "$ cd /\n",
      "\n",
      "cmd /\n",
      "\n"
     ]
    },
    {
     "ename": "TypeError",
     "evalue": "unsupported operand type(s) for +=: 'int' and 'str'",
     "output_type": "error",
     "traceback": [
      "\u001b[0;31m---------------------------------------------------------------------------\u001b[0m",
      "\u001b[0;31mTypeError\u001b[0m                                 Traceback (most recent call last)",
      "Cell \u001b[0;32mIn[18], line 16\u001b[0m\n\u001b[1;32m     14\u001b[0m linenum \u001b[39m+\u001b[39m\u001b[39m=\u001b[39m \u001b[39m1\u001b[39m\n\u001b[1;32m     15\u001b[0m \u001b[39mwhile\u001b[39;00m \u001b[39m'\u001b[39m\u001b[39m$\u001b[39m\u001b[39m'\u001b[39m \u001b[39mnot\u001b[39;00m \u001b[39min\u001b[39;00m lines[linenum]:\n\u001b[0;32m---> 16\u001b[0m     parse_ls(lines[linenum], cur, root)\n\u001b[1;32m     17\u001b[0m     linenum \u001b[39m+\u001b[39m\u001b[39m=\u001b[39m \u001b[39m1\u001b[39m\n",
      "Cell \u001b[0;32mIn[17], line 23\u001b[0m, in \u001b[0;36mparse_ls\u001b[0;34m(line, cur, root)\u001b[0m\n\u001b[1;32m     21\u001b[0m size \u001b[39m=\u001b[39m line\u001b[39m.\u001b[39msplit(\u001b[39m'\u001b[39m\u001b[39m \u001b[39m\u001b[39m'\u001b[39m)[\u001b[39m0\u001b[39m]\n\u001b[1;32m     22\u001b[0m name \u001b[39m=\u001b[39m line\u001b[39m.\u001b[39msplit(\u001b[39m'\u001b[39m\u001b[39m \u001b[39m\u001b[39m'\u001b[39m)[\u001b[39m1\u001b[39m]\n\u001b[0;32m---> 23\u001b[0m newfile \u001b[39m=\u001b[39m File(cur, name, size)\n",
      "Cell \u001b[0;32mIn[11], line 7\u001b[0m, in \u001b[0;36mFile.__init__\u001b[0;34m(self, parent, name, size)\u001b[0m\n\u001b[1;32m      5\u001b[0m \u001b[39mself\u001b[39m\u001b[39m.\u001b[39msize \u001b[39m=\u001b[39m size\n\u001b[1;32m      6\u001b[0m parent\u001b[39m.\u001b[39madd_child(\u001b[39mself\u001b[39m)\n\u001b[0;32m----> 7\u001b[0m parent\u001b[39m.\u001b[39;49mupdate_size(size)\n",
      "Cell \u001b[0;32mIn[11], line 26\u001b[0m, in \u001b[0;36mDir.update_size\u001b[0;34m(self, size)\u001b[0m\n\u001b[1;32m     25\u001b[0m \u001b[39mdef\u001b[39;00m \u001b[39mupdate_size\u001b[39m(\u001b[39mself\u001b[39m, size):\n\u001b[0;32m---> 26\u001b[0m     \u001b[39mself\u001b[39m\u001b[39m.\u001b[39msize \u001b[39m+\u001b[39m\u001b[39m=\u001b[39m size\n",
      "\u001b[0;31mTypeError\u001b[0m: unsupported operand type(s) for +=: 'int' and 'str'"
     ]
    }
   ],
   "source": [
    "# Establish root node and point to it\n",
    "root = Dir(None, 'root')\n",
    "cur = root\n",
    "\n",
    "with open('day7.in', 'r') as f:\n",
    "    lines = f.readlines()\n",
    "    linenum = 0\n",
    "    while linenum < len(lines) - 1:\n",
    "        if 'cd' in lines[linenum]:\n",
    "            print(lines[linenum])\n",
    "            parse_cd(lines[linenum], cur, root)\n",
    "            linenum += 1\n",
    "        elif 'ls' in lines[linenum]:\n",
    "            linenum += 1\n",
    "            while '$' not in lines[linenum]:\n",
    "                parse_ls(lines[linenum], cur, root)\n",
    "                linenum += 1\n"
   ]
  }
 ],
 "metadata": {
  "kernelspec": {
   "display_name": "Python 3",
   "language": "python",
   "name": "python3"
  },
  "language_info": {
   "codemirror_mode": {
    "name": "ipython",
    "version": 3
   },
   "file_extension": ".py",
   "mimetype": "text/x-python",
   "name": "python",
   "nbconvert_exporter": "python",
   "pygments_lexer": "ipython3",
   "version": "3.8.9"
  },
  "orig_nbformat": 4,
  "vscode": {
   "interpreter": {
    "hash": "31f2aee4e71d21fbe5cf8b01ff0e069b9275f58929596ceb00d14d90e3e16cd6"
   }
  }
 },
 "nbformat": 4,
 "nbformat_minor": 2
}
