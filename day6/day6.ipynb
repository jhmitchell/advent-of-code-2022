{
 "cells": [
  {
   "cell_type": "code",
   "execution_count": 4,
   "metadata": {},
   "outputs": [
    {
     "name": "stdout",
     "output_type": "stream",
     "text": [
      "1723\n"
     ]
    }
   ],
   "source": [
    "from collections import deque\n",
    "\n",
    "fin = 'day6.in'\n",
    "\n",
    "header = deque([None]*4)\n",
    "\n",
    "def has_repeat(list):\n",
    "    discovered = []\n",
    "    for item in list:\n",
    "        if item in discovered:\n",
    "            return True\n",
    "        else:\n",
    "            discovered.append(item)\n",
    "    return False\n",
    "\n",
    "with open(fin, 'r') as f:\n",
    "    for i, char in enumerate(f.readline()):\n",
    "        header.append(char)\n",
    "        header.popleft()\n",
    "        if not has_repeat(header) and None not in header:\n",
    "            print(i+1)\n",
    "            break\n",
    "\n"
   ]
  },
  {
   "cell_type": "code",
   "execution_count": 5,
   "metadata": {},
   "outputs": [
    {
     "name": "stdout",
     "output_type": "stream",
     "text": [
      "3708\n"
     ]
    }
   ],
   "source": [
    "from collections import deque\n",
    "\n",
    "fin = 'day6.in'\n",
    "\n",
    "header = deque([None]*14)\n",
    "\n",
    "def has_repeat(list):\n",
    "    discovered = []\n",
    "    for item in list:\n",
    "        if item in discovered:\n",
    "            return True\n",
    "        else:\n",
    "            discovered.append(item)\n",
    "    return False\n",
    "\n",
    "with open(fin, 'r') as f:\n",
    "    for i, char in enumerate(f.readline()):\n",
    "        header.append(char)\n",
    "        header.popleft()\n",
    "        if not has_repeat(header) and None not in header:\n",
    "            print(i+1)\n",
    "            break"
   ]
  }
 ],
 "metadata": {
  "kernelspec": {
   "display_name": "Python 3",
   "language": "python",
   "name": "python3"
  },
  "language_info": {
   "codemirror_mode": {
    "name": "ipython",
    "version": 3
   },
   "file_extension": ".py",
   "mimetype": "text/x-python",
   "name": "python",
   "nbconvert_exporter": "python",
   "pygments_lexer": "ipython3",
   "version": "3.8.9"
  },
  "orig_nbformat": 4,
  "vscode": {
   "interpreter": {
    "hash": "31f2aee4e71d21fbe5cf8b01ff0e069b9275f58929596ceb00d14d90e3e16cd6"
   }
  }
 },
 "nbformat": 4,
 "nbformat_minor": 2
}
