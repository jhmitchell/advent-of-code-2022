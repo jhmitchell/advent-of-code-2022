{
 "cells": [
  {
   "cell_type": "code",
   "execution_count": 11,
   "metadata": {},
   "outputs": [
    {
     "name": "stdout",
     "output_type": "stream",
     "text": [
      "605\n"
     ]
    }
   ],
   "source": [
    "fin = 'day4.in'\n",
    "\n",
    "# total pairs\n",
    "pairs = 0\n",
    "\n",
    "with open(fin, 'r') as f:\n",
    "    for line in f.readlines():\n",
    "        left = line.split(',')[0]\n",
    "        right = line.split(',')[1]\n",
    "        leftmin = int(left.split('-')[0])\n",
    "        leftmax = int(left.split('-')[1])\n",
    "        rightmin = int(right.split('-')[0])\n",
    "        rightmax = int(right.split('-')[1])\n",
    "        if (leftmin >= rightmin and leftmax <= rightmax) \\\n",
    "            or (leftmin <= rightmin and leftmax >= rightmax):\n",
    "            pairs += 1\n",
    "\n",
    "print(pairs)"
   ]
  },
  {
   "cell_type": "code",
   "execution_count": 12,
   "metadata": {},
   "outputs": [
    {
     "name": "stdout",
     "output_type": "stream",
     "text": [
      "914\n"
     ]
    }
   ],
   "source": [
    "fin = 'day4.in'\n",
    "\n",
    "# total pairs\n",
    "pairs = 0\n",
    "\n",
    "with open(fin, 'r') as f:\n",
    "    for line in f.readlines():\n",
    "        left = line.split(',')[0]\n",
    "        right = line.split(',')[1]\n",
    "        leftmin = int(left.split('-')[0])\n",
    "        leftmax = int(left.split('-')[1])\n",
    "        rightmin = int(right.split('-')[0])\n",
    "        rightmax = int(right.split('-')[1])\n",
    "        if (leftmin >= rightmin and leftmin <= rightmax) \\\n",
    "            or (leftmin <= rightmin and leftmax >= rightmin):\n",
    "            pairs += 1\n",
    "\n",
    "print(pairs)"
   ]
  }
 ],
 "metadata": {
  "kernelspec": {
   "display_name": "Python 3",
   "language": "python",
   "name": "python3"
  },
  "language_info": {
   "codemirror_mode": {
    "name": "ipython",
    "version": 3
   },
   "file_extension": ".py",
   "mimetype": "text/x-python",
   "name": "python",
   "nbconvert_exporter": "python",
   "pygments_lexer": "ipython3",
   "version": "3.8.9 (default, May 17 2022, 12:55:41) \n[Clang 13.1.6 (clang-1316.0.21.2.5)]"
  },
  "orig_nbformat": 4,
  "vscode": {
   "interpreter": {
    "hash": "31f2aee4e71d21fbe5cf8b01ff0e069b9275f58929596ceb00d14d90e3e16cd6"
   }
  }
 },
 "nbformat": 4,
 "nbformat_minor": 2
}
